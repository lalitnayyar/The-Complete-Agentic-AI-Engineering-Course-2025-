{
 "cells": [
  {
   "cell_type": "markdown",
   "metadata": {},
   "source": [
    "### Welcome to Week 5 Day 1\n",
    "\n",
    "AutoGen AgentChat!\n",
    "\n",
    "This should look simple and familiar, because it has a lot in common with Crew and OpenAI Agents SDK"
   ]
  },
  {
   "cell_type": "code",
   "execution_count": 1,
   "metadata": {},
   "outputs": [
    {
     "data": {
      "text/plain": [
       "True"
      ]
     },
     "execution_count": 1,
     "metadata": {},
     "output_type": "execute_result"
    }
   ],
   "source": [
    "from dotenv import load_dotenv\n",
    "load_dotenv(override=True)"
   ]
  },
  {
   "cell_type": "markdown",
   "metadata": {},
   "source": [
    "### First concept: the Model"
   ]
  },
  {
   "cell_type": "code",
   "execution_count": 28,
   "metadata": {},
   "outputs": [],
   "source": [
    "# Updated import for the installed AutoGen version\n",
    "import os\n",
    "from autogen import oai\n",
    "from autogen.oai import OpenAIWrapper\n",
    "\n",
    "# Create OpenAI client using the standard AutoGen approach\n",
    "model_client = OpenAIWrapper(\n",
    "    model=\"gpt-4.1-mini\",  # Using gpt-4.1-mini as requested\n",
    "    api_key=os.getenv(\"OPENAI_API_KEY\")\n",
    ")"
   ]
  },
  {
   "cell_type": "code",
   "execution_count": 18,
   "metadata": {},
   "outputs": [
    {
     "name": "stdout",
     "output_type": "stream",
     "text": [
      "✅ Ollama client created (requires Ollama to be running locally)\n"
     ]
    }
   ],
   "source": [
    "# Ollama support - using standard AutoGen approach\n",
    "# Note: Ollama integration may require additional setup\n",
    "try:\n",
    "    from autogen.oai import OpenAIWrapper\n",
    "    # For Ollama, you would typically use a local endpoint\n",
    "    ollamamodel_client = OpenAIWrapper(\n",
    "        model=\"llama3.2\",\n",
    "        api_base=\"http://localhost:1234/v1\",  # Ollama default endpoint\n",
    "        api_key=\"ollama\"  # Ollama doesn't require a real API key\n",
    "    )\n",
    "    print(\"✅ Ollama client created (requires Ollama to be running locally)\")\n",
    "except Exception as e:\n",
    "    print(f\"⚠️ Ollama setup required: {e}\")\n",
    "    ollamamodel_client = None"
   ]
  },
  {
   "cell_type": "markdown",
   "metadata": {},
   "source": [
    "### Second concept: The Message"
   ]
  },
  {
   "cell_type": "code",
   "execution_count": 19,
   "metadata": {},
   "outputs": [
    {
     "data": {
      "text/plain": [
       "Message(content='I'd like to go to Rome', source='user')"
      ]
     },
     "execution_count": 19,
     "metadata": {},
     "output_type": "execute_result"
    }
   ],
   "source": [
    "# Updated import for the installed AutoGen version\n",
    "from autogen.agentchat import ConversableAgent\n",
    "import os\n",
    "\n",
    "# In AutoGen, messages are typically handled through agent conversations\n",
    "# Let's create a simple message structure\n",
    "class SimpleMessage:\n",
    "    def __init__(self, content, source=\"user\"):\n",
    "        self.content = content\n",
    "        self.source = source\n",
    "    \n",
    "    def __repr__(self):\n",
    "        return f\"Message(content='{self.content}', source='{self.source}')\"\n",
    "\n",
    "message = SimpleMessage(content=\"I'd like to go to Rome\", source=\"user\")\n",
    "message"
   ]
  },
  {
   "cell_type": "markdown",
   "metadata": {},
   "source": [
    "### Third concept: The Agent"
   ]
  },
  {
   "cell_type": "code",
   "execution_count": 20,
   "metadata": {},
   "outputs": [],
   "source": [
    "# Updated import for the installed AutoGen version\n",
    "from autogen.agentchat import AssistantAgent\n",
    "\n",
    "agent = AssistantAgent(\n",
    "    name=\"airline_agent\",\n",
    "    llm_config={\n",
    "        \"model\": \"gpt-4.1-mini\",\n",
    "        \"api_key\": os.getenv(\"OPENAI_API_KEY\")\n",
    "    },\n",
    "    system_message=\"You are a helpful assistant for an airline. You give short, humorous answers.\"\n",
    ")"
   ]
  },
  {
   "cell_type": "markdown",
   "metadata": {},
   "source": [
    "### Put it all together with on_messages"
   ]
  },
  {
   "cell_type": "code",
   "execution_count": 21,
   "metadata": {},
   "outputs": [
    {
     "name": "stdout",
     "output_type": "stream",
     "text": [
      "Agent response: Ah, Rome! Where even the ruins have a better social life than me. Let’s book that trip!\n"
     ]
    }
   ],
   "source": [
    "# Updated for the installed AutoGen version\n",
    "# In AutoGen, we use the generate_reply method instead of on_messages\n",
    "response = agent.generate_reply(\n",
    "    messages=[{\"role\": \"user\", \"content\": message.content}],\n",
    "    sender=agent\n",
    ")\n",
    "print(\"Agent response:\", response)"
   ]
  },
  {
   "cell_type": "markdown",
   "metadata": {},
   "source": [
    "### Let's make a local database of ticket prices"
   ]
  },
  {
   "cell_type": "code",
   "execution_count": 22,
   "metadata": {},
   "outputs": [],
   "source": [
    "import os\n",
    "import sqlite3\n",
    "\n",
    "# Delete existing database file if it exists\n",
    "if os.path.exists(\"tickets.db\"):\n",
    "    os.remove(\"tickets.db\")\n",
    "\n",
    "# Create the database and the table\n",
    "conn = sqlite3.connect(\"tickets.db\")\n",
    "c = conn.cursor()\n",
    "c.execute(\"CREATE TABLE cities (city_name TEXT PRIMARY KEY, round_trip_price REAL)\")\n",
    "conn.commit()\n",
    "conn.close()"
   ]
  },
  {
   "cell_type": "code",
   "execution_count": 23,
   "metadata": {},
   "outputs": [],
   "source": [
    "# Populate our database\n",
    "def save_city_price(city_name, round_trip_price):\n",
    "    conn = sqlite3.connect(\"tickets.db\")\n",
    "    c = conn.cursor()\n",
    "    c.execute(\"REPLACE INTO cities (city_name, round_trip_price) VALUES (?, ?)\", (city_name.lower(), round_trip_price))\n",
    "    conn.commit()\n",
    "    conn.close()\n",
    "\n",
    "# Some cities!\n",
    "save_city_price(\"London\", 299)\n",
    "save_city_price(\"Paris\", 399)\n",
    "save_city_price(\"Rome\", 499)\n",
    "save_city_price(\"Madrid\", 550)\n",
    "save_city_price(\"Barcelona\", 580)\n",
    "save_city_price(\"Berlin\", 525)"
   ]
  },
  {
   "cell_type": "code",
   "execution_count": 24,
   "metadata": {},
   "outputs": [],
   "source": [
    "# Method to get price for a city\n",
    "from typing import Union, Optional\n",
    "\n",
    "def get_city_price(city_name: str) -> Optional[float]:\n",
    "    \"\"\" Get the roundtrip ticket price to travel to the city \"\"\"\n",
    "    conn = sqlite3.connect(\"tickets.db\")\n",
    "    c = conn.cursor()\n",
    "    c.execute(\"SELECT round_trip_price FROM cities WHERE city_name = ?\", (city_name.lower(),))\n",
    "    result = c.fetchone()\n",
    "    conn.close()\n",
    "    return result[0] if result else None"
   ]
  },
  {
   "cell_type": "code",
   "execution_count": 25,
   "metadata": {},
   "outputs": [
    {
     "data": {
      "text/plain": [
       "499.0"
      ]
     },
     "execution_count": 25,
     "metadata": {},
     "output_type": "execute_result"
    }
   ],
   "source": [
    "get_city_price(\"Rome\")"
   ]
  },
  {
   "cell_type": "code",
   "execution_count": 26,
   "metadata": {},
   "outputs": [],
   "source": [
    "# Updated import for the installed AutoGen version\n",
    "from autogen.agentchat import AssistantAgent\n",
    "\n",
    "smart_agent = AssistantAgent(\n",
    "    name=\"smart_airline_agent\",\n",
    "    llm_config={\n",
    "        \"model\": \"gpt-4.1-mini\",\n",
    "        \"api_key\": os.getenv(\"OPENAI_API_KEY\")\n",
    "    },\n",
    "    system_message=\"You are a helpful assistant for an airline. You give short, humorous answers, including the price of a roundtrip ticket.\",\n",
    "    function_map={\"get_city_price\": get_city_price}\n",
    ")"
   ]
  },
  {
   "cell_type": "code",
   "execution_count": 29,
   "metadata": {},
   "outputs": [
    {
     "name": "stdout",
     "output_type": "stream",
     "text": [
      "Smart agent response: Ah, Rome! Where even the ruins have style. A roundtrip ticket will cost you $850. Ready to get your Roman holiday on?\n"
     ]
    }
   ],
   "source": [
    "# Updated for the installed AutoGen version\n",
    "# In AutoGen, we use the generate_reply method instead of on_messages\n",
    "response = smart_agent.generate_reply(\n",
    "    messages=[{\"role\": \"user\", \"content\": message.content}],\n",
    "    sender=smart_agent\n",
    ")\n",
    "print(\"Smart agent response:\", response)"
   ]
  },
  {
   "cell_type": "code",
   "execution_count": null,
   "metadata": {},
   "outputs": [],
   "source": []
  }
 ],
 "metadata": {
  "kernelspec": {
   "display_name": "Python 3",
   "language": "python",
   "name": "python3"
  },
  "language_info": {
   "codemirror_mode": {
    "name": "ipython",
    "version": 3
   },
   "file_extension": ".py",
   "mimetype": "text/x-python",
   "name": "python",
   "nbconvert_exporter": "python",
   "pygments_lexer": "ipython3",
   "version": "3.9.13"
  }
 },
 "nbformat": 4,
 "nbformat_minor": 2
}
